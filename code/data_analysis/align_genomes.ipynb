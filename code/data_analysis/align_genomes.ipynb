{
 "cells": [
  {
   "cell_type": "code",
   "execution_count": 1,
   "metadata": {},
   "outputs": [],
   "source": [
    "import pandas as pd\n",
    "import numpy as np\n",
    "\n",
    "import sys\n",
    "import os\n",
    "import re\n",
    "\n",
    "sys.path.append( \"../..\")\n",
    "\n",
    "from global_config import config\n",
    "\n",
    "results_dir = config.get_property(\"results_dir\")\n",
    "data_dir    = config.get_property(\"data_dir\")"
   ]
  },
  {
   "cell_type": "code",
   "execution_count": 2,
   "metadata": {},
   "outputs": [],
   "source": [
    "\n",
    "## INFO FROM Bedford lab\n",
    "# https://github.com/blab/dengue-antigenic-dynamics/blob/dependabot/pip/titer_model/implementation-nextstrain-augur/cvxopt-1.2.7/titer_model/implementation-nextstrain-augur/dengue/dengue.prepare.py\n",
    "dropped_strains = [\n",
    "    'DENV1/VIETNAM/BIDV992/2006',        'DENV1/FRANCE/00475/2008', 'DENV1/VIETNAM/BIDV3990/2008', 'DENV2/HAITI/DENGUEVIRUS2HOMOSAPIENS1/2016', # Probable recombinants\n",
    "    'DENV2/AUSTRALIA/QML22/2015',        # Suspiciously far diverged\n",
    "    'DENV2/MALAYSIA/DKD811/2008',        'DENV2/MALAYSIA/P81407/1970', 'DENV2/SENEGAL/0674/1970', 'DENV2/SENEGAL/DAKAR0761/1974',                  # Sylvatic\n",
    "    'DENV2/NIGERIA/IBH11234/1966',       'DENV2/NIGERIA/IBH11664/1966', 'DENV2/NIGERIA/IBH11208/1966', 'DENV2/SENEGAL/DAKARD75505/1999',          # Sylvatic\n",
    "    'DENV2/SENEGAL/DAKAR141069/1999',    'DENV2/SENEGAL/DAKAR141070/1999', 'DENV2/GUINEA/PM33974/1981', 'DENV2/BURKINA_FASO/DAKAR2039/1980',   # Sylvatic\n",
    "    'DENV2/COTE_D_IVOIRE/DAKAR578/1980', 'DENV2/COTE_D_IVOIRE/DAKAR510/1980', 'DENV2/MALAYSIA/SAB/2015', 'DENV2/TRINIDAD_AND_TOBAGO/NA/1953'# Sylvatic\n",
    "    'DENV4/MALAYSIA/P731120/1973',       'DENV4/MALAYSIA/P215/1975'# Sylvatic\n",
    "]\n",
    "\n",
    "sanofi_vaccine_strains = {\n",
    "    'denv1': 'DENV1/THAILAND/PUO359/1980',\n",
    "    'denv2': 'DENV2/THAILAND/PUO218/1980',\n",
    "    'denv3': 'DENV3/THAILAND/PAH88188/1988',\n",
    "    'denv4': 'DENV4/INDONESIA/S1228/1978'}\n",
    "\n",
    "references = {\n",
    "    \"denv1\": {\"metadata\": {'strain': \"DENV1/NAURUISLAND/REFERENCE/1997\", \"accession\": \"NC_001477\", \"date\": \"1997-XX-XX\", 'host': \"NA\", 'country': \"Nauru\", 'region': \"oceania\"}},\n",
    "    \"denv2\": {\"metadata\": {'strain': \"DENV2/THAILAND/REFERENCE/1964\", \"accession\": \"NC_001474\", \"date\": \"1964-XX-XX\", 'host': \"NA\", 'country': \"Thailand\", \"region\": \"southeast_asia\"}},\n",
    "    \"denv3\": {\"metadata\": {'strain': \"DENV3/SRI_LANKA/REFERENCE/2000\", \"accession\": \"NC_001475\", \"date\": \"2000-XX-XX\", 'host': \"NA\", 'country': \"Sri Lanka\", \"region\": \"south_asia\"}},\n",
    "    \"denv4\": {\"metadata\": {'strain': \"DENV4/NA/REFERENCE/2003\", \"accession\": \"NC_002640\", \"date\": \"2003-XX-XX\", 'host': \"NA\", 'country': \"NA\", \"region\": \"NA\"}},\n",
    "}"
   ]
  },
  {
   "cell_type": "code",
   "execution_count": 3,
   "metadata": {},
   "outputs": [],
   "source": [
    "\n",
    "\n",
    "\n",
    "seq_df = pd.DataFrame(columns=[\"name\", \"serotype\", \"sequence\"])\n",
    "for sero_idx in range(1, 4+1):\n",
    "    f     = open(fasta_file,'r')\n",
    "    lines = f.readlines()\n",
    "    hre   = re.compile('>(\\S+)')\n",
    "    lre   = re.compile('^(\\S+)$')\n",
    "    gene  = {}\n",
    "\n",
    "    for line in lines:\n",
    "            outh = hre.search(line)\n",
    "            if outh:\n",
    "                    id   = outh.group(1)\n",
    "            else:\n",
    "                    outl = lre.search(line)\n",
    "                    if(id in gene.keys()):\n",
    "                            gene[id] += outl.group(1)\n",
    "                    else:\n",
    "                            gene[id] = outl.group(1)\n",
    "\n",
    "    sero_df             = pd.DataFrame.from_dict(gene, orient='index').reset_index().rename(columns={'index':'name', 0:'sequence'})\n",
    "    sero_df[\"serotype\"] = f\"denv{sero_idx}\"\n",
    "    seq_df = seq_df.append(sero_df)\n",
    "seq_df[\"length\"] = seq_df[\"sequence\"].apply(lambda x: len(x))"
   ]
  },
  {
   "cell_type": "code",
   "execution_count": 6,
   "metadata": {},
   "outputs": [
    {
     "data": {
      "text/plain": [
       "['dengue_1_outgroup.gb',\n",
       " 'dengue_4_outgroup.gb',\n",
       " 'dengue_2_outgroup.gb',\n",
       " 'dengue_3_outgroup.gb']"
      ]
     },
     "execution_count": 6,
     "metadata": {},
     "output_type": "execute_result"
    }
   ],
   "source": [
    "os.listdir(os.path.join(data_dir, \"reference\"))"
   ]
  },
  {
   "cell_type": "code",
   "execution_count": 47,
   "metadata": {},
   "outputs": [],
   "source": [
    "from Bio import SeqIO\n",
    "\n",
    "fasta_files   = [os.path.join(data_dir, \"nextstrain\", f\"sequences_denv{z}.fasta\") for z in range (1, 4+1)]\n",
    "references_gb = [os.path.join(data_dir, \"reference\", f\"dengue_{z}_outgroup.gb\") for z in range (1, 4+1)]\n",
    "\n",
    "\n",
    "seq_file   = fasta_files[0]\n",
    "ref_file   = references_gb[0]\n",
    "\n",
    "references = SeqIO.read(ref_file, 'genbank')\n",
    "sequences  = {x.name:x for x in SeqIO.parse(seq_file, 'fasta')}\n",
    "\n",
    "from Bio.SeqRecord import SeqRecord\n",
    "from Bio.Seq import Seq\n",
    "\n",
    "seqs = {}\n",
    "for name, data in sequences.items():\n",
    "    seqs[name] = SeqRecord(Seq(data.seq),\n",
    "            id=name, name=name, description=name)\n",
    "    seqs[name].attributes = data.annotations\n",
    "\n",
    "data = {}\n",
    "data['sequences'] = seqs\n",
    "data['reference'] = references\n",
    "data[\"serotype\"]  = \"denv1\""
   ]
  },
  {
   "cell_type": "code",
   "execution_count": 48,
   "metadata": {},
   "outputs": [
    {
     "data": {
      "text/plain": [
       "{'sequences': {'DENV1/INDIA/237/1962': SeqRecord(seq=Seq('atgcgatgtgtgggaataggcaacagagacttcgttgaaggcctgccaggagca...gcg'), id='DENV1/INDIA/237/1962', name='DENV1/INDIA/237/1962', description='DENV1/INDIA/237/1962', dbxrefs=[]),\n",
       "  'DENV1/CHINA/RL6/2013': SeqRecord(seq=Seq('atgcgatgcgtgggaataggcagtagggacttcgtggaaggactgtcaggagca...gcg'), id='DENV1/CHINA/RL6/2013', name='DENV1/CHINA/RL6/2013', description='DENV1/CHINA/RL6/2013', dbxrefs=[]),\n",
       "  'DENV1/THAILAND/AILANDKPPKDV08491NC04528V0L/2007': SeqRecord(seq=Seq('atgcgatgcgtgggaataggcagcagggacttcgtggaaggactgtcaggagca...gcg'), id='DENV1/THAILAND/AILANDKPPKDV08491NC04528V0L/2007', name='DENV1/THAILAND/AILANDKPPKDV08491NC04528V0L/2007', description='DENV1/THAILAND/AILANDKPPKDV08491NC04528V0L/2007', dbxrefs=[]),\n",
       "  'DENV1/INDIA/EAIIMSDELHI1752/2010': SeqRecord(seq=Seq('tgggtgacgtatggtacgtgttctcagacaggcgaacaccgacgggataaacgc...atc'), id='DENV1/INDIA/EAIIMSDELHI1752/2010', name='DENV1/INDIA/EAIIMSDELHI1752/2010', description='DENV1/INDIA/EAIIMSDELHI1752/2010', dbxrefs=[]),\n",
       "  'DENV1/FIJI/C/2012': SeqRecord(seq=Seq('atgcggtgtgtgggaataggaaacagagacttcgtggaaggactgtcaggagct...gcg'), id='DENV1/FIJI/C/2012', name='DENV1/FIJI/C/2012', description='DENV1/FIJI/C/2012', dbxrefs=[]),\n",
       "  'DENV1/BRAZIL/19RJ/2010': SeqRecord(seq=Seq('atgaacaaccaacggaaaaagacgggtcgaccgtctttcaatatgctgaaacgc...gcg'), id='DENV1/BRAZIL/19RJ/2010', name='DENV1/BRAZIL/19RJ/2010', description='DENV1/BRAZIL/19RJ/2010', dbxrefs=[]),\n",
       "  'DENV1/MYANMAR/438263801/NA': SeqRecord(seq=Seq('atgcgatgtgtgggaataggcaacagggacttcgtggaaggactgtcaggagca...gcg'), id='DENV1/MYANMAR/438263801/NA', name='DENV1/MYANMAR/438263801/NA', description='DENV1/MYANMAR/438263801/NA', dbxrefs=[]),\n",
       "  'DENV1/AUSTRALIA/SHCS1/NA': SeqRecord(seq=Seq('atgcggtgcgtgggaataggcaacagagacttcgtggaaggactgtcaggagct...gcg'), id='DENV1/AUSTRALIA/SHCS1/NA', name='DENV1/AUSTRALIA/SHCS1/NA', description='DENV1/AUSTRALIA/SHCS1/NA', dbxrefs=[]),\n",
       "  'DENV1/NICARAGUA/BIDV641/2005': SeqRecord(seq=Seq('acaagaacagtttcgaatcggaagcttgcttaacgtagttctaacagtttttta...atg'), id='DENV1/NICARAGUA/BIDV641/2005', name='DENV1/NICARAGUA/BIDV641/2005', description='DENV1/NICARAGUA/BIDV641/2005', dbxrefs=[]),\n",
       "  'DENV1/NEW_CALEDONIA/3601/2012': SeqRecord(seq=Seq('atgcgatgcgtgggaataggcagcagggacttcgtggaaggactgtcaggagca...gcg'), id='DENV1/NEW_CALEDONIA/3601/2012', name='DENV1/NEW_CALEDONIA/3601/2012', description='DENV1/NEW_CALEDONIA/3601/2012', dbxrefs=[]),\n",
       "  'DENV1/NICARAGUA/BIDV621/2005': SeqRecord(seq=Seq('acaagaacagtttcgaatcggaagcttgcttaacgtagttctaacagtttttta...atg'), id='DENV1/NICARAGUA/BIDV621/2005', name='DENV1/NICARAGUA/BIDV621/2005', description='DENV1/NICARAGUA/BIDV621/2005', dbxrefs=[]),\n",
       "  'DENV1/BRAZIL/K34D1DIVIMG/2013': SeqRecord(seq=Seq('atgcgatgcgtgggaataggcaacagagacttcgttgaaggactgtcaggagca...gcg'), id='DENV1/BRAZIL/K34D1DIVIMG/2013', name='DENV1/BRAZIL/K34D1DIVIMG/2013', description='DENV1/BRAZIL/K34D1DIVIMG/2013', dbxrefs=[]),\n",
       "  'DENV1/VIETNAM/09DX833/2011': SeqRecord(seq=Seq('atggccatgcgatgcgtgggaataggcagcagggacttcgtggaaggactgtca...gcg'), id='DENV1/VIETNAM/09DX833/2011', name='DENV1/VIETNAM/09DX833/2011', description='DENV1/VIETNAM/09DX833/2011', dbxrefs=[]),\n",
       "  'DENV1/CHINA/YNGM/2015': SeqRecord(seq=Seq('atgcgatgcgtgggaataggcagcagggacttcgtggaaggactgtcaggagca...gcg'), id='DENV1/CHINA/YNGM/2015', name='DENV1/CHINA/YNGM/2015', description='DENV1/CHINA/YNGM/2015', dbxrefs=[]),\n",
       "  'DENV1/SINGAPORE/K4138DK1/2005': SeqRecord(seq=Seq('agttgttagtctacgtggaccgacaagaacagtttcgaatcggaagctcgctta...tct'), id='DENV1/SINGAPORE/K4138DK1/2005', name='DENV1/SINGAPORE/K4138DK1/2005', description='DENV1/SINGAPORE/K4138DK1/2005', dbxrefs=[]),\n",
       "  'DENV1/NICARAGUA/BIDV622/2005': SeqRecord(seq=Seq('aagaacagtttcgaatcggaagcttgcttaatgtagttctaacagttttttttt...gag'), id='DENV1/NICARAGUA/BIDV622/2005', name='DENV1/NICARAGUA/BIDV622/2005', description='DENV1/NICARAGUA/BIDV622/2005', dbxrefs=[]),\n",
       "  'DENV1/BRAZIL/K72D1DIVIMG/2013': SeqRecord(seq=Seq('atgcgatgcgtgggaataggcaatagagacttcgttgaaggactgtcaggagca...gcg'), id='DENV1/BRAZIL/K72D1DIVIMG/2013', name='DENV1/BRAZIL/K72D1DIVIMG/2013', description='DENV1/BRAZIL/K72D1DIVIMG/2013', dbxrefs=[]),\n",
       "  'DENV1/MYANMAR/MANDALAY87/2015': SeqRecord(seq=Seq('atgcgatgcgtgggaataggcagcagggacttcgtggaaggactgtcaggagca...gcg'), id='DENV1/MYANMAR/MANDALAY87/2015', name='DENV1/MYANMAR/MANDALAY87/2015', description='DENV1/MYANMAR/MANDALAY87/2015', dbxrefs=[]),\n",
       "  'DENV1/PARAGUAY/280PAR/2000': SeqRecord(seq=Seq('agttgttagtctacgtggaccgacaagaacagtttcgaatcggaagcttgctta...tct'), id='DENV1/PARAGUAY/280PAR/2000', name='DENV1/PARAGUAY/280PAR/2000', description='DENV1/PARAGUAY/280PAR/2000', dbxrefs=[]),\n",
       "  'DENV1/MEXICO/BIDV7580/2007': SeqRecord(seq=Seq('tggaccgacaagaacagtttcgaatcggaagcttgcttaacgtagttctaacag...aaa'), id='DENV1/MEXICO/BIDV7580/2007', name='DENV1/MEXICO/BIDV7580/2007', description='DENV1/MEXICO/BIDV7580/2007', dbxrefs=[]),\n",
       "  'DENV1/VENEZUELA/61068/2006': SeqRecord(seq=Seq('agttgttagtctacgtggaccgacaagaacagtttcgaatcggaagcttgctta...tct'), id='DENV1/VENEZUELA/61068/2006', name='DENV1/VENEZUELA/61068/2006', description='DENV1/VENEZUELA/61068/2006', dbxrefs=[]),\n",
       "  'DENV1/MYANMAR/370452500/NA': SeqRecord(seq=Seq('atgtgatgcgtgggaataggcagcagggacttcgtggaaggactgtcaggagca...gcg'), id='DENV1/MYANMAR/370452500/NA', name='DENV1/MYANMAR/370452500/NA', description='DENV1/MYANMAR/370452500/NA', dbxrefs=[]),\n",
       "  'DENV1/VIETNAM/BIDV2693/2006': SeqRecord(seq=Seq('acaagaacagtttcgaatcggaagcttgcttaacgtagttctaacagtttttta...atg'), id='DENV1/VIETNAM/BIDV2693/2006', name='DENV1/VIETNAM/BIDV2693/2006', description='DENV1/VIETNAM/BIDV2693/2006', dbxrefs=[]),\n",
       "  'DENV1/VIETNAM/BIDV4052/2008': SeqRecord(seq=Seq('ttgcttaacgtagttctaacagttttttattagagagccgatctctgatgagca...cat'), id='DENV1/VIETNAM/BIDV4052/2008', name='DENV1/VIETNAM/BIDV4052/2008', description='DENV1/VIETNAM/BIDV4052/2008', dbxrefs=[]),\n",
       "  'DENV1/INDONESIA/MKS0077/2007': SeqRecord(seq=Seq('agttgttagtctacgtggaccgacaagaacagtttcgaatcggaagcttgctta...tct'), id='DENV1/INDONESIA/MKS0077/2007', name='DENV1/INDONESIA/MKS0077/2007', description='DENV1/INDONESIA/MKS0077/2007', dbxrefs=[]),\n",
       "  'DENV1/NEW_CALEDONIA/280BB3/2012': SeqRecord(seq=Seq('atgcgatgcgtgggaataggcagcagggacttcgtggaaggactgtcaggagca...aga'), id='DENV1/NEW_CALEDONIA/280BB3/2012', name='DENV1/NEW_CALEDONIA/280BB3/2012', description='DENV1/NEW_CALEDONIA/280BB3/2012', dbxrefs=[]),\n",
       "  'DENV1/SINGAPORE/31428/2014': SeqRecord(seq=Seq('atgcgatgcgtgggaataggcagcagggacttcgtggaaggactgtcaggagca...gcg'), id='DENV1/SINGAPORE/31428/2014', name='DENV1/SINGAPORE/31428/2014', description='DENV1/SINGAPORE/31428/2014', dbxrefs=[]),\n",
       "  'DENV1/MEXICO/BIDV3726/2007': SeqRecord(seq=Seq('acaagaacagtttcgaatcggaagcttgcttaacgtagttctaacagtttttta...atg'), id='DENV1/MEXICO/BIDV3726/2007', name='DENV1/MEXICO/BIDV3726/2007', description='DENV1/MEXICO/BIDV3726/2007', dbxrefs=[]),\n",
       "  'DENV1/CHINA/YNDGR103/2015': SeqRecord(seq=Seq('atgcgatgcgtgggaataggcagcagggacttcgtggaaggactgtcaggagca...gcg'), id='DENV1/CHINA/YNDGR103/2015', name='DENV1/CHINA/YNDGR103/2015', description='DENV1/CHINA/YNDGR103/2015', dbxrefs=[]),\n",
       "  'DENV1/CAMBODIA/BIDV3775/2006': SeqRecord(seq=Seq('tcttctgaacgtatttctacagttgtttgttagagagcagatctctgatgaaca...gta'), id='DENV1/CAMBODIA/BIDV3775/2006', name='DENV1/CAMBODIA/BIDV3775/2006', description='DENV1/CAMBODIA/BIDV3775/2006', dbxrefs=[]),\n",
       "  'DENV1/VIETNAM/BIDV4063/2008': SeqRecord(seq=Seq('acaagaacagtttcgaatcggaagcttgcttaacgtagttctaacagtttttta...aca'), id='DENV1/VIETNAM/BIDV4063/2008', name='DENV1/VIETNAM/BIDV4063/2008', description='DENV1/VIETNAM/BIDV4063/2008', dbxrefs=[]),\n",
       "  'DENV1/INDONESIA/03CTW/2010': SeqRecord(seq=Seq('atgcgatgcgtgggaataggcagcagggacttcgtggaaggactgtcaggagca...gcg'), id='DENV1/INDONESIA/03CTW/2010', name='DENV1/INDONESIA/03CTW/2010', description='DENV1/INDONESIA/03CTW/2010', dbxrefs=[]),\n",
       "  'DENV1/PUERTO_RICO/BIDV2096/1993': SeqRecord(seq=Seq('acaagaacagtttcgaatcggaagcttgcttaacgtagttctaacagtttttta...atg'), id='DENV1/PUERTO_RICO/BIDV2096/1993', name='DENV1/PUERTO_RICO/BIDV2096/1993', description='DENV1/PUERTO_RICO/BIDV2096/1993', dbxrefs=[]),\n",
       "  'DENV1/THAILAND/0197/1996': SeqRecord(seq=Seq('atgcgatgcgtgggaataggcagcagggacttcgtggaaggactgtcaggagca...gcg'), id='DENV1/THAILAND/0197/1996', name='DENV1/THAILAND/0197/1996', description='DENV1/THAILAND/0197/1996', dbxrefs=[]),\n",
       "  'DENV1/VIETNAM/12ATW/2014': SeqRecord(seq=Seq('atgcgatgcgtgggaataggcagcagggacttcgtggaaggactgtcaggagca...gcg'), id='DENV1/VIETNAM/12ATW/2014', name='DENV1/VIETNAM/12ATW/2014', description='DENV1/VIETNAM/12ATW/2014', dbxrefs=[]),\n",
       "  'DENV1/NA/4642CAMPECHE95/NA': SeqRecord(seq=Seq('atgcgatgcgtgggaataggcaacagagacttcgttgaaggactgtcaggagca...gcg'), id='DENV1/NA/4642CAMPECHE95/NA', name='DENV1/NA/4642CAMPECHE95/NA', description='DENV1/NA/4642CAMPECHE95/NA', dbxrefs=[]),\n",
       "  'DENV1/THAILAND/0031/1991': SeqRecord(seq=Seq('atgcgatgtgtgggaataggcaacagggactttgtggaaggactgtcgggagca...gcg'), id='DENV1/THAILAND/0031/1991', name='DENV1/THAILAND/0031/1991', description='DENV1/THAILAND/0031/1991', dbxrefs=[]),\n",
       "  'DENV1/CHINA/RL22/2013': SeqRecord(seq=Seq('atgcgatgcgtgggaataggcagcagggacttcgtggaaggactgtcaggagca...gcg'), id='DENV1/CHINA/RL22/2013', name='DENV1/CHINA/RL22/2013', description='DENV1/CHINA/RL22/2013', dbxrefs=[]),\n",
       "  'DENV1/THAILAND/16007/1964': SeqRecord(seq=Seq('agttgttagtctacgtggaccgacaagaacagtttcgaatcggaagcttgctta...tct'), id='DENV1/THAILAND/16007/1964', name='DENV1/THAILAND/16007/1964', description='DENV1/THAILAND/16007/1964', dbxrefs=[]),\n",
       "  'DENV1/INDONESIA/MKSIF039/2008': SeqRecord(seq=Seq('agttgttagtctacgtggaccgacaagaacagtttcgaatcggaagcttgctta...tct'), id='DENV1/INDONESIA/MKSIF039/2008', name='DENV1/INDONESIA/MKSIF039/2008', description='DENV1/INDONESIA/MKSIF039/2008', dbxrefs=[]),\n",
       "  'DENV1/VIETNAM/BIDV2811/2007': SeqRecord(seq=Seq('acaagcccagttttcgatcggaagcttgcttaacgtagttctaacagtttttta...atg'), id='DENV1/VIETNAM/BIDV2811/2007', name='DENV1/VIETNAM/BIDV2811/2007', description='DENV1/VIETNAM/BIDV2811/2007', dbxrefs=[]),\n",
       "  'DENV1/VIETNAM/BIDV817/2006': SeqRecord(seq=Seq('acaagaacagtttcgaatcggaagcttgcttaacgtagttctaacagtttttta...atg'), id='DENV1/VIETNAM/BIDV817/2006', name='DENV1/VIETNAM/BIDV817/2006', description='DENV1/VIETNAM/BIDV817/2006', dbxrefs=[]),\n",
       "  'DENV1/VIETNAM/06DX19/2009': SeqRecord(seq=Seq('atggcaatgcgatgtgtgggaataggcagcagggacttcgtggaaggactgtca...gcg'), id='DENV1/VIETNAM/06DX19/2009', name='DENV1/VIETNAM/06DX19/2009', description='DENV1/VIETNAM/06DX19/2009', dbxrefs=[]),\n",
       "  'DENV1/MYANMAR/405304001/NA': SeqRecord(seq=Seq('atgcgatgcgtgggaataggcagcagggacttcgtggaaggactgtcaggagca...ggg'), id='DENV1/MYANMAR/405304001/NA', name='DENV1/MYANMAR/405304001/NA', description='DENV1/MYANMAR/405304001/NA', dbxrefs=[]),\n",
       "  'DENV1/VIETNAM/VIETM10DX111802PLACEBO48HRS/NA': SeqRecord(seq=Seq('aagaacagtttcgaatcggaagcttgcttaacgtagttctaacagttttttatt...caa'), id='DENV1/VIETNAM/VIETM10DX111802PLACEBO48HRS/NA', name='DENV1/VIETNAM/VIETM10DX111802PLACEBO48HRS/NA', description='DENV1/VIETNAM/VIETM10DX111802PLACEBO48HRS/NA', dbxrefs=[]),\n",
       "  'DENV1/USA/HAWO3663/2001': SeqRecord(seq=Seq('agttgttagtctacgtggaccgacaagaacagtttcgaatcggaagcttgctta...tct'), id='DENV1/USA/HAWO3663/2001', name='DENV1/USA/HAWO3663/2001', description='DENV1/USA/HAWO3663/2001', dbxrefs=[]),\n",
       "  'DENV1/VIETNAM/BIDV2882/2006': SeqRecord(seq=Seq('ggaccgacaagaacagtttcgaatcggaagcttgcttaacgtagttctaacagt...gga'), id='DENV1/VIETNAM/BIDV2882/2006', name='DENV1/VIETNAM/BIDV2882/2006', description='DENV1/VIETNAM/BIDV2882/2006', dbxrefs=[]),\n",
       "  'DENV1/MYANMAR/MANDALAY181/2015': SeqRecord(seq=Seq('atgcgatgcgtgggaataggcagcagggacttcgtggaaggactgtcaggagca...gcg'), id='DENV1/MYANMAR/MANDALAY181/2015', name='DENV1/MYANMAR/MANDALAY181/2015', description='DENV1/MYANMAR/MANDALAY181/2015', dbxrefs=[]),\n",
       "  'DENV1/VIETNAM/HANOI128415OCT/2004': SeqRecord(seq=Seq('atgcgatgcgtgggaataggcagcagggacttcgtggaaggactgtcaggagca...gcg'), id='DENV1/VIETNAM/HANOI128415OCT/2004', name='DENV1/VIETNAM/HANOI128415OCT/2004', description='DENV1/VIETNAM/HANOI128415OCT/2004', dbxrefs=[]),\n",
       "  'DENV1/SRI_LANKA/23789/2013': SeqRecord(seq=Seq('atgcggtgcgtgggaataggcagcagggacttcgtggaaggactgtcaggagca...gcg'), id='DENV1/SRI_LANKA/23789/2013', name='DENV1/SRI_LANKA/23789/2013', description='DENV1/SRI_LANKA/23789/2013', dbxrefs=[])},\n",
       " 'reference': SeqRecord(seq=Seq('AGTTGTTAGTCTACGTGGACCGACAAGAACAGTTTCGAATCGGAAGCTTGCTTA...TCT'), id='NC_001477.1', name='DENV1/NAURUISLAND/REFERENCE/1997', description='Dengue virus 1, complete genome', dbxrefs=['BioProject:PRJNA15306']),\n",
       " 'serotype': 'denv1'}"
      ]
     },
     "execution_count": 48,
     "metadata": {},
     "output_type": "execute_result"
    }
   ],
   "source": [
    "data"
   ]
  },
  {
   "cell_type": "code",
   "execution_count": null,
   "metadata": {},
   "outputs": [],
   "source": []
  }
 ],
 "metadata": {
  "kernelspec": {
   "display_name": "base",
   "language": "python",
   "name": "python3"
  },
  "language_info": {
   "codemirror_mode": {
    "name": "ipython",
    "version": 3
   },
   "file_extension": ".py",
   "mimetype": "text/x-python",
   "name": "python",
   "nbconvert_exporter": "python",
   "pygments_lexer": "ipython3",
   "version": "3.8.2"
  },
  "orig_nbformat": 4,
  "vscode": {
   "interpreter": {
    "hash": "574dadffd7a64c0fd8dffb1c55414219139ca02322c8f7cd93c896672936a7f7"
   }
  }
 },
 "nbformat": 4,
 "nbformat_minor": 2
}
