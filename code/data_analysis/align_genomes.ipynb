{
 "cells": [
  {
   "cell_type": "code",
   "execution_count": 5,
   "metadata": {},
   "outputs": [],
   "source": [
    "import pandas as pd\n",
    "import numpy as np\n",
    "\n",
    "import sys\n",
    "import os\n",
    "import re\n",
    "\n",
    "sys.path.append( \"../..\")\n",
    "\n",
    "from global_config import config\n",
    "\n",
    "results_dir = config.get_property(\"results_dir\")\n",
    "data_dir    = config.get_property(\"data_dir\")"
   ]
  },
  {
   "cell_type": "code",
   "execution_count": 6,
   "metadata": {},
   "outputs": [],
   "source": [
    "\n",
    "## INFO FROM Bedford lab\n",
    "# https://github.com/blab/dengue-antigenic-dynamics/blob/dependabot/pip/titer_model/implementation-nextstrain-augur/cvxopt-1.2.7/titer_model/implementation-nextstrain-augur/dengue/dengue.prepare.py\n",
    "dropped_strains = [\n",
    "    'DENV1/VIETNAM/BIDV992/2006',        'DENV1/FRANCE/00475/2008', 'DENV1/VIETNAM/BIDV3990/2008', 'DENV2/HAITI/DENGUEVIRUS2HOMOSAPIENS1/2016', # Probable recombinants\n",
    "    'DENV2/AUSTRALIA/QML22/2015',        # Suspiciously far diverged\n",
    "    'DENV2/MALAYSIA/DKD811/2008',        'DENV2/MALAYSIA/P81407/1970', 'DENV2/SENEGAL/0674/1970', 'DENV2/SENEGAL/DAKAR0761/1974',                  # Sylvatic\n",
    "    'DENV2/NIGERIA/IBH11234/1966',       'DENV2/NIGERIA/IBH11664/1966', 'DENV2/NIGERIA/IBH11208/1966', 'DENV2/SENEGAL/DAKARD75505/1999',          # Sylvatic\n",
    "    'DENV2/SENEGAL/DAKAR141069/1999',    'DENV2/SENEGAL/DAKAR141070/1999', 'DENV2/GUINEA/PM33974/1981', 'DENV2/BURKINA_FASO/DAKAR2039/1980',   # Sylvatic\n",
    "    'DENV2/COTE_D_IVOIRE/DAKAR578/1980', 'DENV2/COTE_D_IVOIRE/DAKAR510/1980', 'DENV2/MALAYSIA/SAB/2015', 'DENV2/TRINIDAD_AND_TOBAGO/NA/1953'# Sylvatic\n",
    "    'DENV4/MALAYSIA/P731120/1973',       'DENV4/MALAYSIA/P215/1975' # Sylvatic\n",
    "]\n",
    "\n",
    "sanofi_vaccine_strains = {\n",
    "    'denv1': 'DENV1/THAILAND/PUO359/1980',\n",
    "    'denv2': 'DENV2/THAILAND/PUO218/1980',\n",
    "    'denv3': 'DENV3/THAILAND/PAH88188/1988',\n",
    "    'denv4': 'DENV4/INDONESIA/S1228/1978'}\n",
    "\n",
    "references = {\n",
    "    \"denv1\": {\"metadata\": {'strain': \"DENV1/NAURUISLAND/REFERENCE/1997\", \"accession\": \"NC_001477\", \"date\": \"1997-XX-XX\", 'host': \"NA\", 'country': \"Nauru\", 'region': \"oceania\"}},\n",
    "    \"denv2\": {\"metadata\": {'strain': \"DENV2/THAILAND/REFERENCE/1964\", \"accession\": \"NC_001474\", \"date\": \"1964-XX-XX\", 'host': \"NA\", 'country': \"Thailand\", \"region\": \"southeast_asia\"}},\n",
    "    \"denv3\": {\"metadata\": {'strain': \"DENV3/SRI_LANKA/REFERENCE/2000\", \"accession\": \"NC_001475\", \"date\": \"2000-XX-XX\", 'host': \"NA\", 'country': \"Sri Lanka\", \"region\": \"south_asia\"}},\n",
    "    \"denv4\": {\"metadata\": {'strain': \"DENV4/NA/REFERENCE/2003\", \"accession\": \"NC_002640\", \"date\": \"2003-XX-XX\", 'host': \"NA\", 'country': \"NA\", \"region\": \"NA\"}},\n",
    "}"
   ]
  },
  {
   "cell_type": "code",
   "execution_count": 7,
   "metadata": {},
   "outputs": [],
   "source": [
    "from Bio import SeqIO\n",
    "\n",
    "fasta_files   = [os.path.join(data_dir, \"nextstrain\", f\"sequences_denv{z}.fasta\") for z in range (1, 4+1)]\n",
    "references_gb = [os.path.join(data_dir, \"reference\", f\"dengue_{z}_outgroup.gb\") for z in range (1, 4+1)]\n",
    "\n",
    "seq_file   = fasta_files[0]\n",
    "ref_file   = references_gb[0]\n",
    "\n",
    "references = SeqIO.read(ref_file, 'genbank')\n",
    "sequences  = {x.name:x for x in SeqIO.parse(seq_file, 'fasta')}\n",
    "\n",
    "from Bio.SeqRecord import SeqRecord\n",
    "from Bio.Seq import Seq\n",
    "\n",
    "seqs = {}\n",
    "for name, data in sequences.items():\n",
    "    seqs[name] = SeqRecord(Seq(data.seq),\n",
    "            id=name, name=name, description=name)\n",
    "    seqs[name].attributes = data.annotations\n",
    "\n",
    "data = {}\n",
    "data['sequences'] = seqs\n",
    "data['reference'] = references\n",
    "data[\"serotype\"]  = \"denv1\""
   ]
  },
  {
   "cell_type": "code",
   "execution_count": 21,
   "metadata": {},
   "outputs": [
    {
     "data": {
      "text/plain": [
       "Seq('atgcgatgtgtgggaataggcaacagagacttcgttgaaggcctgccaggagca...gcg')"
      ]
     },
     "execution_count": 21,
     "metadata": {},
     "output_type": "execute_result"
    }
   ],
   "source": [
    "data['sequences']['DENV1/INDIA/237/1962'].seq"
   ]
  },
  {
   "cell_type": "code",
   "execution_count": 8,
   "metadata": {},
   "outputs": [
    {
     "ename": "NameError",
     "evalue": "name 'fasta_file' is not defined",
     "output_type": "error",
     "traceback": [
      "\u001b[0;31m---------------------------------------------------------------------------\u001b[0m",
      "\u001b[0;31mNameError\u001b[0m                                 Traceback (most recent call last)",
      "\u001b[0;32m/var/folders/7p/jp6xqkvn5wb6ddl1fn0bhs980000gn/T/ipykernel_48716/4018521102.py\u001b[0m in \u001b[0;36m<module>\u001b[0;34m\u001b[0m\n\u001b[1;32m      1\u001b[0m \u001b[0mseq_df\u001b[0m \u001b[0;34m=\u001b[0m \u001b[0mpd\u001b[0m\u001b[0;34m.\u001b[0m\u001b[0mDataFrame\u001b[0m\u001b[0;34m(\u001b[0m\u001b[0mcolumns\u001b[0m\u001b[0;34m=\u001b[0m\u001b[0;34m[\u001b[0m\u001b[0;34m\"name\"\u001b[0m\u001b[0;34m,\u001b[0m \u001b[0;34m\"serotype\"\u001b[0m\u001b[0;34m,\u001b[0m \u001b[0;34m\"sequence\"\u001b[0m\u001b[0;34m]\u001b[0m\u001b[0;34m)\u001b[0m\u001b[0;34m\u001b[0m\u001b[0;34m\u001b[0m\u001b[0m\n\u001b[1;32m      2\u001b[0m \u001b[0;32mfor\u001b[0m \u001b[0msero_idx\u001b[0m \u001b[0;32min\u001b[0m \u001b[0mrange\u001b[0m\u001b[0;34m(\u001b[0m\u001b[0;36m1\u001b[0m\u001b[0;34m,\u001b[0m \u001b[0;36m4\u001b[0m\u001b[0;34m+\u001b[0m\u001b[0;36m1\u001b[0m\u001b[0;34m)\u001b[0m\u001b[0;34m:\u001b[0m\u001b[0;34m\u001b[0m\u001b[0;34m\u001b[0m\u001b[0m\n\u001b[0;32m----> 3\u001b[0;31m     \u001b[0mf\u001b[0m     \u001b[0;34m=\u001b[0m \u001b[0mopen\u001b[0m\u001b[0;34m(\u001b[0m\u001b[0mfasta_file\u001b[0m\u001b[0;34m,\u001b[0m\u001b[0;34m'r'\u001b[0m\u001b[0;34m)\u001b[0m\u001b[0;34m\u001b[0m\u001b[0;34m\u001b[0m\u001b[0m\n\u001b[0m\u001b[1;32m      4\u001b[0m     \u001b[0mlines\u001b[0m \u001b[0;34m=\u001b[0m \u001b[0mf\u001b[0m\u001b[0;34m.\u001b[0m\u001b[0mreadlines\u001b[0m\u001b[0;34m(\u001b[0m\u001b[0;34m)\u001b[0m\u001b[0;34m\u001b[0m\u001b[0;34m\u001b[0m\u001b[0m\n\u001b[1;32m      5\u001b[0m     \u001b[0mhre\u001b[0m   \u001b[0;34m=\u001b[0m \u001b[0mre\u001b[0m\u001b[0;34m.\u001b[0m\u001b[0mcompile\u001b[0m\u001b[0;34m(\u001b[0m\u001b[0;34m'>(\\S+)'\u001b[0m\u001b[0;34m)\u001b[0m\u001b[0;34m\u001b[0m\u001b[0;34m\u001b[0m\u001b[0m\n",
      "\u001b[0;31mNameError\u001b[0m: name 'fasta_file' is not defined"
     ]
    }
   ],
   "source": [
    "seq_df = pd.DataFrame(columns=[\"name\", \"serotype\", \"sequence\"])\n",
    "\n",
    "for sero_idx in range(1, 4+1):\n",
    "    f     = open(fasta_file,'r')\n",
    "    lines = f.readlines()\n",
    "    hre   = re.compile('>(\\S+)')\n",
    "    lre   = re.compile('^(\\S+)$')\n",
    "    gene  = {}\n",
    "\n",
    "    for line in lines:\n",
    "            outh = hre.search(line)\n",
    "            if outh:\n",
    "                    id   = outh.group(1)\n",
    "            else:\n",
    "                    outl = lre.search(line)\n",
    "                    if(id in gene.keys()):\n",
    "                            gene[id] += outl.group(1)\n",
    "                    else:\n",
    "                            gene[id] = outl.group(1)\n",
    "\n",
    "    sero_df             = pd.DataFrame.from_dict(gene, orient='index').reset_index().rename(columns={'index':'name', 0:'sequence'})\n",
    "    sero_df[\"serotype\"] = f\"denv{sero_idx}\"\n",
    "    seq_df              = seq_df.append(sero_df)\n",
    "seq_df[\"length\"] = seq_df[\"sequence\"].apply(lambda x: len(x))"
   ]
  },
  {
   "cell_type": "code",
   "execution_count": null,
   "metadata": {},
   "outputs": [],
   "source": [
    "from Bio import Align\n",
    "\n",
    "seq1      = str(data[\"sequences\"][list(data[\"sequences\"].keys())[0]].seq)\n",
    "ref_seq   = data['reference'].seq\n",
    "\n",
    "aligner   = Align.PairwiseAligner()\n",
    "alignment = aligner.align(str(ref_seq), str(seq1).upper(), )"
   ]
  },
  {
   "cell_type": "code",
   "execution_count": null,
   "metadata": {},
   "outputs": [
    {
     "ename": "ValueError",
     "evalue": "Sequences must all be the same length",
     "output_type": "error",
     "traceback": [
      "\u001b[0;31m---------------------------------------------------------------------------\u001b[0m",
      "\u001b[0;31mValueError\u001b[0m                                Traceback (most recent call last)",
      "\u001b[0;32m/var/folders/7p/jp6xqkvn5wb6ddl1fn0bhs980000gn/T/ipykernel_22845/3606246080.py\u001b[0m in \u001b[0;36m<module>\u001b[0;34m\u001b[0m\n\u001b[1;32m      6\u001b[0m \u001b[0;34m\u001b[0m\u001b[0m\n\u001b[1;32m      7\u001b[0m \u001b[0;34m\u001b[0m\u001b[0m\n\u001b[0;32m----> 8\u001b[0;31m \u001b[0mali\u001b[0m \u001b[0;34m=\u001b[0m \u001b[0mMultipleSeqAlignment\u001b[0m\u001b[0;34m(\u001b[0m\u001b[0msequences\u001b[0m\u001b[0;34m)\u001b[0m\u001b[0;34m\u001b[0m\u001b[0;34m\u001b[0m\u001b[0m\n\u001b[0m",
      "\u001b[0;32m~/anaconda3/lib/python3.8/site-packages/Bio/Align/__init__.py\u001b[0m in \u001b[0;36m__init__\u001b[0;34m(self, records, alphabet, annotations, column_annotations)\u001b[0m\n\u001b[1;32m    171\u001b[0m         \u001b[0mself\u001b[0m\u001b[0;34m.\u001b[0m\u001b[0m_records\u001b[0m \u001b[0;34m=\u001b[0m \u001b[0;34m[\u001b[0m\u001b[0;34m]\u001b[0m\u001b[0;34m\u001b[0m\u001b[0;34m\u001b[0m\u001b[0m\n\u001b[1;32m    172\u001b[0m         \u001b[0;32mif\u001b[0m \u001b[0mrecords\u001b[0m\u001b[0;34m:\u001b[0m\u001b[0;34m\u001b[0m\u001b[0;34m\u001b[0m\u001b[0m\n\u001b[0;32m--> 173\u001b[0;31m             \u001b[0mself\u001b[0m\u001b[0;34m.\u001b[0m\u001b[0mextend\u001b[0m\u001b[0;34m(\u001b[0m\u001b[0mrecords\u001b[0m\u001b[0;34m)\u001b[0m\u001b[0;34m\u001b[0m\u001b[0;34m\u001b[0m\u001b[0m\n\u001b[0m\u001b[1;32m    174\u001b[0m \u001b[0;34m\u001b[0m\u001b[0m\n\u001b[1;32m    175\u001b[0m         \u001b[0;31m# Annotations about the whole alignment\u001b[0m\u001b[0;34m\u001b[0m\u001b[0;34m\u001b[0m\u001b[0;34m\u001b[0m\u001b[0m\n",
      "\u001b[0;32m~/anaconda3/lib/python3.8/site-packages/Bio/Align/__init__.py\u001b[0m in \u001b[0;36mextend\u001b[0;34m(self, records)\u001b[0m\n\u001b[1;32m    479\u001b[0m \u001b[0;34m\u001b[0m\u001b[0m\n\u001b[1;32m    480\u001b[0m         \u001b[0;32mfor\u001b[0m \u001b[0mrec\u001b[0m \u001b[0;32min\u001b[0m \u001b[0mrecords\u001b[0m\u001b[0;34m:\u001b[0m\u001b[0;34m\u001b[0m\u001b[0;34m\u001b[0m\u001b[0m\n\u001b[0;32m--> 481\u001b[0;31m             \u001b[0mself\u001b[0m\u001b[0;34m.\u001b[0m\u001b[0m_append\u001b[0m\u001b[0;34m(\u001b[0m\u001b[0mrec\u001b[0m\u001b[0;34m,\u001b[0m \u001b[0mexpected_length\u001b[0m\u001b[0;34m)\u001b[0m\u001b[0;34m\u001b[0m\u001b[0;34m\u001b[0m\u001b[0m\n\u001b[0m\u001b[1;32m    482\u001b[0m \u001b[0;34m\u001b[0m\u001b[0m\n\u001b[1;32m    483\u001b[0m     \u001b[0;32mdef\u001b[0m \u001b[0mappend\u001b[0m\u001b[0;34m(\u001b[0m\u001b[0mself\u001b[0m\u001b[0;34m,\u001b[0m \u001b[0mrecord\u001b[0m\u001b[0;34m)\u001b[0m\u001b[0;34m:\u001b[0m\u001b[0;34m\u001b[0m\u001b[0;34m\u001b[0m\u001b[0m\n",
      "\u001b[0;32m~/anaconda3/lib/python3.8/site-packages/Bio/Align/__init__.py\u001b[0m in \u001b[0;36m_append\u001b[0;34m(self, record, expected_length)\u001b[0m\n\u001b[1;32m    541\u001b[0m             \u001b[0;31m# raise ValueError(\"New sequence is not of length %i\"\u001b[0m\u001b[0;34m\u001b[0m\u001b[0;34m\u001b[0m\u001b[0;34m\u001b[0m\u001b[0m\n\u001b[1;32m    542\u001b[0m             \u001b[0;31m#                  % self.get_alignment_length())\u001b[0m\u001b[0;34m\u001b[0m\u001b[0;34m\u001b[0m\u001b[0;34m\u001b[0m\u001b[0m\n\u001b[0;32m--> 543\u001b[0;31m             \u001b[0;32mraise\u001b[0m \u001b[0mValueError\u001b[0m\u001b[0;34m(\u001b[0m\u001b[0;34m\"Sequences must all be the same length\"\u001b[0m\u001b[0;34m)\u001b[0m\u001b[0;34m\u001b[0m\u001b[0;34m\u001b[0m\u001b[0m\n\u001b[0m\u001b[1;32m    544\u001b[0m \u001b[0;34m\u001b[0m\u001b[0m\n\u001b[1;32m    545\u001b[0m         \u001b[0mself\u001b[0m\u001b[0;34m.\u001b[0m\u001b[0m_records\u001b[0m\u001b[0;34m.\u001b[0m\u001b[0mappend\u001b[0m\u001b[0;34m(\u001b[0m\u001b[0mrecord\u001b[0m\u001b[0;34m)\u001b[0m\u001b[0;34m\u001b[0m\u001b[0;34m\u001b[0m\u001b[0m\n",
      "\u001b[0;31mValueError\u001b[0m: Sequences must all be the same length"
     ]
    }
   ],
   "source": [
    "from Bio.Align import MultipleSeqAlignment\n",
    "from Bio.SeqRecord import SeqRecord\n",
    "from Bio.Seq import Seq\n",
    "\n",
    "sequences = [SeqRecord(Seq(str(seq.seq).upper())) for _, seq in data[\"sequences\"].items()]\n",
    "ali       = MultipleSeqAlignment(sequences)"
   ]
  },
  {
   "cell_type": "code",
   "execution_count": null,
   "metadata": {},
   "outputs": [
    {
     "data": {
      "text/plain": [
       "'DENV1/BRAZIL/19RJ/2010'"
      ]
     },
     "execution_count": 110,
     "metadata": {},
     "output_type": "execute_result"
    }
   ],
   "source": [
    "list(data[\"sequences\"].keys())[5]"
   ]
  },
  {
   "cell_type": "code",
   "execution_count": null,
   "metadata": {},
   "outputs": [],
   "source": []
  }
 ],
 "metadata": {
  "kernelspec": {
   "display_name": "base",
   "language": "python",
   "name": "python3"
  },
  "language_info": {
   "codemirror_mode": {
    "name": "ipython",
    "version": 3
   },
   "file_extension": ".py",
   "mimetype": "text/x-python",
   "name": "python",
   "nbconvert_exporter": "python",
   "pygments_lexer": "ipython3",
   "version": "3.8.2"
  },
  "orig_nbformat": 4,
  "vscode": {
   "interpreter": {
    "hash": "574dadffd7a64c0fd8dffb1c55414219139ca02322c8f7cd93c896672936a7f7"
   }
  }
 },
 "nbformat": 4,
 "nbformat_minor": 2
}
