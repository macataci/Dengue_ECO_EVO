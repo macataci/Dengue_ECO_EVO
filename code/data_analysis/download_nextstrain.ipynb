{
 "cells": [
  {
   "cell_type": "code",
   "execution_count": 1,
   "metadata": {},
   "outputs": [],
   "source": [
    "import pandas as pd\n",
    "import numpy as np\n",
    "\n",
    "import sys\n",
    "import os\n",
    "\n",
    "sys.path.append( \"../..\")\n",
    "\n",
    "from global_config import config\n",
    "\n",
    "results_dir = config.get_property(\"results_dir\")\n",
    "data_dir    = config.get_property(\"data_dir\")"
   ]
  },
  {
   "cell_type": "code",
   "execution_count": 2,
   "metadata": {},
   "outputs": [
    {
     "name": "stderr",
     "output_type": "stream",
     "text": [
      "/Users/chaosdonkey06/Dropbox/SantosVega-Lab/dengue_eco_evo/data/nextstrain/sequences_denv1.fasta.zst: 271250 bytes \n",
      "/Users/chaosdonkey06/Dropbox/SantosVega-Lab/dengue_eco_evo/data/nextstrain/sequences_denv2.fasta.zst: 304929 bytes \n",
      "/Users/chaosdonkey06/Dropbox/SantosVega-Lab/dengue_eco_evo/data/nextstrain/sequences_denv3.fasta.zst: 334582 bytes \n",
      "/Users/chaosdonkey06/Dropbox/SantosVega-Lab/dengue_eco_evo/data/nextstrain/sequences_denv4.fasta.zst: 163955 bytes \n",
      "/Users/chaosdonkey06/Dropbox/SantosVega-Lab/dengue_eco_evo/data/nextstrain/sequences_all.fasta.zst: 244140 bytes \n",
      "/Users/chaosdonkey06/Dropbox/SantosVega-Lab/dengue_eco_evo/data/nextstrain/metadata_denv1.tsv.zst: 6270 bytes \n",
      "/Users/chaosdonkey06/Dropbox/SantosVega-Lab/dengue_eco_evo/data/nextstrain/metadata_denv2.tsv.zst: 6104 bytes \n",
      "/Users/chaosdonkey06/Dropbox/SantosVega-Lab/dengue_eco_evo/data/nextstrain/metadata_denv3.tsv.zst: 6618 bytes \n",
      "/Users/chaosdonkey06/Dropbox/SantosVega-Lab/dengue_eco_evo/data/nextstrain/metadata_denv4.tsv.zst: 6394 bytes \n",
      "/Users/chaosdonkey06/Dropbox/SantosVega-Lab/dengue_eco_evo/data/nextstrain/metadata_all.tsv.zst: 6346 bytes \n"
     ]
    }
   ],
   "source": [
    "import requests\n",
    "import re\n",
    "\n",
    "seq_urls  = [f\"https://raw.githubusercontent.com/nextstrain/dengue/main/example_data/sequences_denv{z}.fasta.zst\" for z in range(1, 4+1)]\n",
    "seq_urls  = seq_urls + [f\"https://raw.githubusercontent.com/nextstrain/dengue/main/example_data/sequences_all.fasta.zst\"]\n",
    "\n",
    "meta_urls = [f\"https://raw.githubusercontent.com/nextstrain/dengue/main/example_data/metadata_denv{z}.tsv.zst\" for z in range(1, 4+1)]\n",
    "meta_urls = meta_urls + [f\"https://raw.githubusercontent.com/nextstrain/dengue/main/example_data/metadata_all.tsv.zst\"]\n",
    "\n",
    "for z, sero_url in enumerate(seq_urls):\n",
    "    r              = requests.get(sero_url)\n",
    "    fasta_zst_file = os.path.join(data_dir, \"nextstrain\", sero_url.split(\"/\")[-1])\n",
    "\n",
    "    if  os.path.isfile(fasta_zst_file):\n",
    "        continue\n",
    "\n",
    "    with open(fasta_zst_file, 'wb') as f:\n",
    "    #giving a name and saving it in any required format\n",
    "        f.write(r.content)\n",
    "\n",
    "    os.system(f\"zstd -d {fasta_zst_file}\") # un-compress fasta files\n",
    "    os.system(f\"rm -rf {fasta_zst_file}\")  # remove compressed fasta files\n",
    "\n",
    "for z, meta_url in enumerate(meta_urls):\n",
    "    r             = requests.get(meta_url)\n",
    "    meta_zst_file = os.path.join(data_dir, \"nextstrain\", meta_url.split(\"/\")[-1])\n",
    "    with open(meta_zst_file, 'wb') as f:\n",
    "    #giving a name and saving it in any required format\n",
    "        f.write(r.content)\n",
    "    os.system(f\"zstd -d {meta_zst_file}\") # un-compress fasta files\n",
    "    os.system(f\"rm -rf {meta_zst_file}\")  # remove compressed fasta files"
   ]
  },
  {
   "cell_type": "code",
   "execution_count": 3,
   "metadata": {},
   "outputs": [],
   "source": [
    "# download and read reference sequences\n",
    "seq_ref_urls  = [f\"https://raw.githubusercontent.com/blab/dengue-antigenic-dynamics/master/data/reference/dengue_{z}_outgroup.gb\" for z in range(1, 4+1)]\n",
    "for url_ref in seq_ref_urls:\n",
    "    r             = requests.get(url_ref)\n",
    "\n",
    "    ref_file = os.path.join(data_dir, \"nextstrain\", url_ref.split(\"/\")[-1])\n",
    "    with open(ref_file, 'wb') as f:\n",
    "    #giving a name and saving it in any required format\n",
    "        f.write(r.content)"
   ]
  }
 ],
 "metadata": {
  "kernelspec": {
   "display_name": "base",
   "language": "python",
   "name": "python3"
  },
  "language_info": {
   "codemirror_mode": {
    "name": "ipython",
    "version": 3
   },
   "file_extension": ".py",
   "mimetype": "text/x-python",
   "name": "python",
   "nbconvert_exporter": "python",
   "pygments_lexer": "ipython3",
   "version": "3.8.2"
  },
  "orig_nbformat": 4,
  "vscode": {
   "interpreter": {
    "hash": "574dadffd7a64c0fd8dffb1c55414219139ca02322c8f7cd93c896672936a7f7"
   }
  }
 },
 "nbformat": 4,
 "nbformat_minor": 2
}
