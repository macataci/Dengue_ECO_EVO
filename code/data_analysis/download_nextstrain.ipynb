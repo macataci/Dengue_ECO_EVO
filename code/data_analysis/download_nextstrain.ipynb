{
 "cells": [
  {
   "cell_type": "code",
   "execution_count": 10,
   "metadata": {},
   "outputs": [
    {
     "data": {
      "text/plain": [
       "'/Users/chaosdonkey06/Dropbox/SantosVega-Lab/dengue_eco_evo/data'"
      ]
     },
     "execution_count": 10,
     "metadata": {},
     "output_type": "execute_result"
    }
   ],
   "source": [
    "import pandas as pd\n",
    "import numpy as np\n",
    "\n",
    "import sys\n",
    "import os\n",
    "\n",
    "sys.path.append( \"../..\")\n",
    "\n",
    "from global_config import config\n",
    "\n",
    "results_dir = config.get_property(\"results_dir\")\n",
    "data_dir    = config.get_property(\"data_dir\")\n",
    "\n",
    "data_dir"
   ]
  },
  {
   "cell_type": "code",
   "execution_count": 12,
   "metadata": {},
   "outputs": [
    {
     "name": "stderr",
     "output_type": "stream",
     "text": [
      "/Users/chaosdonkey06/Dropbox/SantosVega-Lab/dengue_eco_evo/data/nextstrain/sequences_denv0.fasta.zst: 271250 bytes \n",
      "/Users/chaosdonkey06/Dropbox/SantosVega-Lab/dengue_eco_evo/data/nextstrain/sequences_denv1.fasta.zst: 304929 bytes \n",
      "/Users/chaosdonkey06/Dropbox/SantosVega-Lab/dengue_eco_evo/data/nextstrain/sequences_denv2.fasta.zst: 334582 bytes \n",
      "/Users/chaosdonkey06/Dropbox/SantosVega-Lab/dengue_eco_evo/data/nextstrain/sequences_denv3.fasta.zst: 163955 bytes \n"
     ]
    }
   ],
   "source": [
    "import requests\n",
    "\n",
    "sero_urls = [f\"https://raw.githubusercontent.com/nextstrain/dengue/main/example_data/sequences_denv{z}.fasta.zst\" for z in range(1, 4+1)]\n",
    "\n",
    "for z, sero_url in enumerate(sero_urls):\n",
    "    r = requests.get(sero_url)\n",
    "\n",
    "    fasta_zst_file = os.path.join(data_dir, \"nextstrain\", f\"sequences_denv{z}.fasta.zst\")\n",
    "    with open(fasta_zst_file, 'wb') as f:\n",
    "    #giving a name and saving it in any required format\n",
    "        f.write(r.content)\n",
    "\n",
    "    # uncompress fasta files\n",
    "    os.system(f\"zstd -d {fasta_zst_file}\")\n"
   ]
  },
  {
   "cell_type": "code",
   "execution_count": 3,
   "metadata": {},
   "outputs": [
    {
     "data": {
      "text/plain": [
       "<Response [200]>"
      ]
     },
     "execution_count": 3,
     "metadata": {},
     "output_type": "execute_result"
    }
   ],
   "source": []
  },
  {
   "cell_type": "code",
   "execution_count": null,
   "metadata": {},
   "outputs": [],
   "source": []
  }
 ],
 "metadata": {
  "kernelspec": {
   "display_name": "base",
   "language": "python",
   "name": "python3"
  },
  "language_info": {
   "codemirror_mode": {
    "name": "ipython",
    "version": 3
   },
   "file_extension": ".py",
   "mimetype": "text/x-python",
   "name": "python",
   "nbconvert_exporter": "python",
   "pygments_lexer": "ipython3",
   "version": "3.8.2"
  },
  "orig_nbformat": 4,
  "vscode": {
   "interpreter": {
    "hash": "574dadffd7a64c0fd8dffb1c55414219139ca02322c8f7cd93c896672936a7f7"
   }
  }
 },
 "nbformat": 4,
 "nbformat_minor": 2
}
